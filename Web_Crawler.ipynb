{
  "nbformat": 4,
  "nbformat_minor": 0,
  "metadata": {
    "colab": {
      "name": "Web Crawler.ipynb",
      "provenance": [],
      "collapsed_sections": [],
      "authorship_tag": "ABX9TyMX5i/zMvJTVgsqJnkZJLmH",
      "include_colab_link": true
    },
    "kernelspec": {
      "name": "python3",
      "display_name": "Python 3"
    },
    "language_info": {
      "name": "python"
    }
  },
  "cells": [
    {
      "cell_type": "markdown",
      "metadata": {
        "id": "view-in-github",
        "colab_type": "text"
      },
      "source": [
        "<a href=\"https://colab.research.google.com/github/amaan784/Web-Crawler/blob/main/Web_Crawler.ipynb\" target=\"_parent\"><img src=\"https://colab.research.google.com/assets/colab-badge.svg\" alt=\"Open In Colab\"/></a>"
      ]
    },
    {
      "cell_type": "code",
      "execution_count": 1,
      "metadata": {
        "id": "v7r_K8Put0hQ"
      },
      "outputs": [],
      "source": [
        "# importing necessary packages\n",
        "from bs4 import BeautifulSoup # web scrapping library (html parser)\n",
        "from urllib.request import Request, urlopen # for sending HTTP requests in Python and for opening URLs respectively\n",
        "import re # regular expression library"
      ]
    },
    {
      "cell_type": "markdown",
      "source": [
        "#A Simple Web Crawler in Python-"
      ],
      "metadata": {
        "id": "bZreJRBpSQoa"
      }
    },
    {
      "cell_type": "code",
      "source": [
        ""
      ],
      "metadata": {
        "id": "vTC2GVQZs1YB"
      },
      "execution_count": 1,
      "outputs": []
    },
    {
      "cell_type": "code",
      "source": [
        ""
      ],
      "metadata": {
        "id": "Mkwsifjas11C"
      },
      "execution_count": 1,
      "outputs": []
    },
    {
      "cell_type": "code",
      "source": [
        ""
      ],
      "metadata": {
        "id": "PfjolKiUs2u2"
      },
      "execution_count": 1,
      "outputs": []
    },
    {
      "cell_type": "markdown",
      "source": [
        "#Getting all links present on a webpage-"
      ],
      "metadata": {
        "id": "il0ONUwCsOu3"
      }
    },
    {
      "cell_type": "code",
      "source": [
        "# downloads webpage data which is surrounded by HTML tags\n",
        "\n",
        "# returns a response object\n",
        "req = Request(\"https://classes.soe.ucsc.edu/cse143/Spring22/\")\n",
        "\n",
        "# helps to open a url after a request is done as a string object or a request object\n",
        "html_page = urlopen(req)"
      ],
      "metadata": {
        "id": "LIjF46XWFmL-"
      },
      "execution_count": 2,
      "outputs": []
    },
    {
      "cell_type": "code",
      "source": [
        "# loads data into a BeautifulSoup object\n",
        "soup = BeautifulSoup(html_page, \"lxml\")"
      ],
      "metadata": {
        "id": "i7_a1_10F5Cn"
      },
      "execution_count": 3,
      "outputs": []
    },
    {
      "cell_type": "code",
      "source": [
        "# helps to find all links present\n",
        "links = []\n",
        "for link in soup.findAll('a'):\n",
        "    links.append(link.get('href'))\n",
        "\n",
        "# removes none data from the list\n",
        "links = list(filter(None, links))\n",
        "\n",
        "print(links)\n",
        "print(len(links))"
      ],
      "metadata": {
        "colab": {
          "base_uri": "https://localhost:8080/"
        },
        "id": "Lb_Zp5d8F7cG",
        "outputId": "57af14e9-97b7-49ff-ac95-c15370a445e9"
      },
      "execution_count": 4,
      "outputs": [
        {
          "output_type": "stream",
          "name": "stdout",
          "text": [
            "['https://classes.soe.ucsc.edu/cse143/Spring22/', 'https://canvas.ucsc.edu/courses/52317', 'jmflanig@ucsc.edu', 'https://classes.soe.ucsc.edu/cse143/Spring22/slides/intro.pdf', 'http://idiom.ucsd.edu/~bakovic/compphon/Jurafsky,%20Martin.-Speech%20and%20Language%20Processing_%20An%20Introduction%20to%20Natural%20Language%20Processing%20(2007).pdf', 'https://classes.soe.ucsc.edu/cse143/Spring22/slides/intro-2.pdf', 'http://idiom.ucsd.edu/~bakovic/compphon/Jurafsky,%20Martin.-Speech%20and%20Language%20Processing_%20An%20Introduction%20to%20Natural%20Language%20Processing%20(2007).pdf', 'https://classes.soe.ucsc.edu/cse143/Spring22/slides/text-processing.pdf', 'https://web.stanford.edu/~jurafsky/slp3/2.pdf', 'https://classes.soe.ucsc.edu/cse143/Spring22/slides/text-classification.pdf', 'https://github.com/jacobeisenstein/gt-nlp-class/raw/master/notes/eisenstein-nlp-notes.pdf', 'https://classes.soe.ucsc.edu/cse143/Spring22/slides/text-classification-2.pdf', 'https://web.stanford.edu/~jurafsky/slp3/4.pdf', 'https://web.stanford.edu/~jurafsky/slp3/5.pdf', 'https://classes.soe.ucsc.edu/cse143/Spring22/slides/lm.pdf', 'https://web.stanford.edu/~jurafsky/slp3/3.pdf', 'https://classes.soe.ucsc.edu/cse143/Spring22/slides/lm-2.pdf', 'https://web.stanford.edu/~jurafsky/slp3/3.pdf', 'https://classes.soe.ucsc.edu/cse143/Spring22/slides/nn.pdf', 'https://web.stanford.edu/~jurafsky/slp3/7.pdf', 'https://classes.soe.ucsc.edu/cse143/Spring22/slides/nn-2.pdf', 'https://web.stanford.edu/~jurafsky/slp3/7.pdf', 'https://classes.soe.ucsc.edu/cse143/Spring22/slides/nn-3.pdf', 'https://web.stanford.edu/~jurafsky/slp3/9.pdf', 'https://classes.soe.ucsc.edu/cse143/Spring22/slides/nn-4.pdf', 'https://web.stanford.edu/~jurafsky/slp3/9.pdf#page=17', 'https://web.stanford.edu/~jurafsky/slp3/11.pdf#page=3', 'https://classes.soe.ucsc.edu/cse143/Spring22/slides/sequence-models.pdf', 'https://web.stanford.edu/~jurafsky/slp3/8.pdf', 'https://web.stanford.edu/~jurafsky/slp3/A.pdf', 'https://classes.soe.ucsc.edu/cse143/Spring22/slides/sequence-models-2.pdf', 'https://drive.google.com/uc?export=view&id=1rYySaMRzPrPeBwy8Dfk7zRpGyQ6lGHx9#page=167', 'https://web.stanford.edu/~jurafsky/slp3/8.pdf', 'https://classes.soe.ucsc.edu/cse143/Spring22/slides/pretraining.pdf', 'https://web.stanford.edu/~jurafsky/slp3/8.pdf#page=6', 'https://web.stanford.edu/~jurafsky/slp3/9.pdf#page=8', 'https://web.stanford.edu/~jurafsky/slp3/11.pdf#page=6', 'https://classes.soe.ucsc.edu/cse143/Spring22/slides/parsing.pdf', 'https://web.stanford.edu/~jurafsky/slp3/12.pdf', 'https://web.stanford.edu/~jurafsky/slp3/13.pdf', 'https://classes.soe.ucsc.edu/cse143/Spring22/slides/dependency-parsing.pdf', 'https://web.stanford.edu/~jurafsky/slp3/14.pdf', 'https://classes.soe.ucsc.edu/cse143/Spring22/slides/translation.pdf', 'https://web.stanford.edu/~jurafsky/slp3/10.pdf', 'https://classes.soe.ucsc.edu/cse143/Spring22/slides/wrapup-ethics.pdf']\n",
            "45\n"
          ]
        }
      ]
    },
    {
      "cell_type": "markdown",
      "source": [
        "###### Extra work: find all links which contains all the Stanford slides i.e only Stanford links"
      ],
      "metadata": {
        "id": "DG7QcBnsal-T"
      }
    },
    {
      "cell_type": "code",
      "source": [
        "# using Regex (note this may be an inefficient method in regex)\n",
        "StanfordLinks = []\n",
        "for i in links:\n",
        "  match = re.search(pattern=\"^https://web.stanford.edu.*\", string=i)\n",
        "  if match is not None:\n",
        "    StanfordLinks.append(match.group())\n",
        "\n",
        "print(StanfordLinks)\n",
        "print(len(StanfordLinks))  "
      ],
      "metadata": {
        "id": "hVaWuRqVfJs_",
        "colab": {
          "base_uri": "https://localhost:8080/"
        },
        "outputId": "147d2ee5-a13b-49db-9b78-6ad80e6843ef"
      },
      "execution_count": 5,
      "outputs": [
        {
          "output_type": "stream",
          "name": "stdout",
          "text": [
            "['https://web.stanford.edu/~jurafsky/slp3/2.pdf', 'https://web.stanford.edu/~jurafsky/slp3/4.pdf', 'https://web.stanford.edu/~jurafsky/slp3/5.pdf', 'https://web.stanford.edu/~jurafsky/slp3/3.pdf', 'https://web.stanford.edu/~jurafsky/slp3/3.pdf', 'https://web.stanford.edu/~jurafsky/slp3/7.pdf', 'https://web.stanford.edu/~jurafsky/slp3/7.pdf', 'https://web.stanford.edu/~jurafsky/slp3/9.pdf', 'https://web.stanford.edu/~jurafsky/slp3/9.pdf#page=17', 'https://web.stanford.edu/~jurafsky/slp3/11.pdf#page=3', 'https://web.stanford.edu/~jurafsky/slp3/8.pdf', 'https://web.stanford.edu/~jurafsky/slp3/A.pdf', 'https://web.stanford.edu/~jurafsky/slp3/8.pdf', 'https://web.stanford.edu/~jurafsky/slp3/8.pdf#page=6', 'https://web.stanford.edu/~jurafsky/slp3/9.pdf#page=8', 'https://web.stanford.edu/~jurafsky/slp3/11.pdf#page=6', 'https://web.stanford.edu/~jurafsky/slp3/12.pdf', 'https://web.stanford.edu/~jurafsky/slp3/13.pdf', 'https://web.stanford.edu/~jurafsky/slp3/14.pdf', 'https://web.stanford.edu/~jurafsky/slp3/10.pdf']\n",
            "20\n"
          ]
        }
      ]
    }
  ]
}